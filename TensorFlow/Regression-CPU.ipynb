{
 "cells": [
  {
   "cell_type": "code",
   "execution_count": 1,
   "metadata": {},
   "outputs": [
    {
     "name": "stderr",
     "output_type": "stream",
     "text": [
      "Using TensorFlow backend.\n"
     ]
    }
   ],
   "source": [
    "import numpy\n",
    "from keras.models import Sequential\n",
    "from keras.layers import Dense\n",
    "from keras import utils as np_utils\n",
    "from keras.datasets import boston_housing"
   ]
  },
  {
   "cell_type": "code",
   "execution_count": 2,
   "metadata": {},
   "outputs": [],
   "source": [
    "# задаем seed для повторяемости результатов\n",
    "numpy.random.seed(42)"
   ]
  },
  {
   "cell_type": "code",
   "execution_count": 3,
   "metadata": {},
   "outputs": [
    {
     "name": "stdout",
     "output_type": "stream",
     "text": [
      "Downloading data from https://s3.amazonaws.com/keras-datasets/boston_housing.npz\n",
      "57344/57026 [==============================] - 0s 8us/step\n"
     ]
    }
   ],
   "source": [
    "# Загружаем данные \n",
    "(X_train , y_train),(X_test, y_test) = boston_housing.load_data()"
   ]
  },
  {
   "cell_type": "markdown",
   "metadata": {},
   "source": [
    "## Препроцессинг данных"
   ]
  },
  {
   "cell_type": "code",
   "execution_count": 5,
   "metadata": {},
   "outputs": [],
   "source": [
    "# Стандартизация данных\n",
    "mean = X_train.mean(axis=0)\n",
    "std = X_train.std(axis=0)\n",
    "X_train -= mean\n",
    "X_train /= std\n",
    "X_test -= mean\n",
    "X_test /= std"
   ]
  },
  {
   "cell_type": "markdown",
   "metadata": {},
   "source": [
    "## Создаём сеть"
   ]
  },
  {
   "cell_type": "code",
   "execution_count": 6,
   "metadata": {},
   "outputs": [],
   "source": [
    "# Создаём последовательную модель\n",
    "model = Sequential()"
   ]
  },
  {
   "cell_type": "code",
   "execution_count": 8,
   "metadata": {},
   "outputs": [],
   "source": [
    "# Добавляем слои сети\n",
    "#первый слой\n",
    "model.add(Dense(128,activation='relu', input_shape=(X_train.shape[1],)))\n",
    "\n",
    "# второй слой\n",
    "model.add(Dense(1))"
   ]
  },
  {
   "cell_type": "code",
   "execution_count": 9,
   "metadata": {},
   "outputs": [],
   "source": [
    "# Компилируем модель\n",
    "model.compile(loss=\"mse\", optimizer=\"adam\", metrics=[\"mae\"])"
   ]
  },
  {
   "cell_type": "code",
   "execution_count": null,
   "metadata": {},
   "outputs": [],
   "source": []
  },
  {
   "cell_type": "markdown",
   "metadata": {},
   "source": [
    "## Обучаем сеть"
   ]
  },
  {
   "cell_type": "code",
   "execution_count": 12,
   "metadata": {},
   "outputs": [
    {
     "name": "stdout",
     "output_type": "stream",
     "text": [
      "Epoch 1/100\n",
      "404/404 [==============================] - 0s 673us/step - loss: 7.9887 - mean_absolute_error: 2.0385\n",
      "Epoch 2/100\n",
      "404/404 [==============================] - 0s 595us/step - loss: 7.7291 - mean_absolute_error: 1.9664\n",
      "Epoch 3/100\n",
      "404/404 [==============================] - 0s 609us/step - loss: 7.8262 - mean_absolute_error: 1.9706\n",
      "Epoch 4/100\n",
      "404/404 [==============================] - 0s 607us/step - loss: 7.5142 - mean_absolute_error: 1.9599\n",
      "Epoch 5/100\n",
      "404/404 [==============================] - 0s 708us/step - loss: 7.4783 - mean_absolute_error: 1.9356\n",
      "Epoch 6/100\n",
      "404/404 [==============================] - 0s 598us/step - loss: 7.4877 - mean_absolute_error: 1.9146\n",
      "Epoch 7/100\n",
      "404/404 [==============================] - 0s 668us/step - loss: 7.3675 - mean_absolute_error: 1.8848\n",
      "Epoch 8/100\n",
      "404/404 [==============================] - 0s 680us/step - loss: 7.3584 - mean_absolute_error: 1.9285\n",
      "Epoch 9/100\n",
      "404/404 [==============================] - 0s 601us/step - loss: 7.0650 - mean_absolute_error: 1.8719\n",
      "Epoch 10/100\n",
      "404/404 [==============================] - 0s 590us/step - loss: 7.0070 - mean_absolute_error: 1.8701\n",
      "Epoch 11/100\n",
      "404/404 [==============================] - 0s 605us/step - loss: 7.1747 - mean_absolute_error: 1.8472\n",
      "Epoch 12/100\n",
      "404/404 [==============================] - 0s 732us/step - loss: 6.9001 - mean_absolute_error: 1.8288\n",
      "Epoch 13/100\n",
      "404/404 [==============================] - 0s 603us/step - loss: 7.0362 - mean_absolute_error: 1.8707\n",
      "Epoch 14/100\n",
      "404/404 [==============================] - 0s 590us/step - loss: 6.7292 - mean_absolute_error: 1.8340\n",
      "Epoch 15/100\n",
      "404/404 [==============================] - 0s 624us/step - loss: 6.8152 - mean_absolute_error: 1.8619\n",
      "Epoch 16/100\n",
      "404/404 [==============================] - 0s 593us/step - loss: 6.7030 - mean_absolute_error: 1.8000\n",
      "Epoch 17/100\n",
      "404/404 [==============================] - 0s 601us/step - loss: 6.5712 - mean_absolute_error: 1.8174\n",
      "Epoch 18/100\n",
      "404/404 [==============================] - 0s 663us/step - loss: 6.6787 - mean_absolute_error: 1.8267\n",
      "Epoch 19/100\n",
      "404/404 [==============================] - 0s 690us/step - loss: 6.5317 - mean_absolute_error: 1.8288\n",
      "Epoch 20/100\n",
      "404/404 [==============================] - 0s 666us/step - loss: 6.3014 - mean_absolute_error: 1.7628\n",
      "Epoch 21/100\n",
      "404/404 [==============================] - 0s 651us/step - loss: 6.2843 - mean_absolute_error: 1.7749\n",
      "Epoch 22/100\n",
      "404/404 [==============================] - 0s 653us/step - loss: 6.2445 - mean_absolute_error: 1.7913\n",
      "Epoch 23/100\n",
      "404/404 [==============================] - 0s 659us/step - loss: 6.2059 - mean_absolute_error: 1.7602\n",
      "Epoch 24/100\n",
      "404/404 [==============================] - 0s 695us/step - loss: 6.3957 - mean_absolute_error: 1.7994\n",
      "Epoch 25/100\n",
      "404/404 [==============================] - 0s 679us/step - loss: 5.9863 - mean_absolute_error: 1.7149\n",
      "Epoch 26/100\n",
      "404/404 [==============================] - 0s 689us/step - loss: 6.0997 - mean_absolute_error: 1.7547\n",
      "Epoch 27/100\n",
      "404/404 [==============================] - 0s 639us/step - loss: 5.9777 - mean_absolute_error: 1.7444\n",
      "Epoch 28/100\n",
      "404/404 [==============================] - 0s 628us/step - loss: 5.7838 - mean_absolute_error: 1.7132\n",
      "Epoch 29/100\n",
      "404/404 [==============================] - 0s 607us/step - loss: 5.7411 - mean_absolute_error: 1.6924\n",
      "Epoch 30/100\n",
      "404/404 [==============================] - 0s 602us/step - loss: 5.9900 - mean_absolute_error: 1.7344\n",
      "Epoch 31/100\n",
      "404/404 [==============================] - 0s 621us/step - loss: 5.7698 - mean_absolute_error: 1.7108\n",
      "Epoch 32/100\n",
      "404/404 [==============================] - 0s 610us/step - loss: 5.9342 - mean_absolute_error: 1.6965\n",
      "Epoch 33/100\n",
      "404/404 [==============================] - 0s 614us/step - loss: 5.7196 - mean_absolute_error: 1.6878\n",
      "Epoch 34/100\n",
      "404/404 [==============================] - 0s 603us/step - loss: 5.7595 - mean_absolute_error: 1.7196\n",
      "Epoch 35/100\n",
      "404/404 [==============================] - 0s 609us/step - loss: 5.6848 - mean_absolute_error: 1.7086\n",
      "Epoch 36/100\n",
      "404/404 [==============================] - 0s 642us/step - loss: 5.8533 - mean_absolute_error: 1.7301\n",
      "Epoch 37/100\n",
      "404/404 [==============================] - 0s 650us/step - loss: 5.5589 - mean_absolute_error: 1.6881\n",
      "Epoch 38/100\n",
      "404/404 [==============================] - 0s 653us/step - loss: 5.6938 - mean_absolute_error: 1.6438\n",
      "Epoch 39/100\n",
      "404/404 [==============================] - 0s 671us/step - loss: 5.5094 - mean_absolute_error: 1.6790\n",
      "Epoch 40/100\n",
      "404/404 [==============================] - 0s 608us/step - loss: 5.5857 - mean_absolute_error: 1.6612\n",
      "Epoch 41/100\n",
      "404/404 [==============================] - 0s 604us/step - loss: 5.1875 - mean_absolute_error: 1.6161\n",
      "Epoch 42/100\n",
      "404/404 [==============================] - 0s 597us/step - loss: 5.4711 - mean_absolute_error: 1.6777\n",
      "Epoch 43/100\n",
      "404/404 [==============================] - 0s 624us/step - loss: 5.4056 - mean_absolute_error: 1.6301\n",
      "Epoch 44/100\n",
      "404/404 [==============================] - 0s 664us/step - loss: 5.4508 - mean_absolute_error: 1.6478\n",
      "Epoch 45/100\n",
      "404/404 [==============================] - 0s 614us/step - loss: 5.1245 - mean_absolute_error: 1.5979\n",
      "Epoch 46/100\n",
      "404/404 [==============================] - 0s 604us/step - loss: 5.0856 - mean_absolute_error: 1.5840\n",
      "Epoch 47/100\n",
      "404/404 [==============================] - 0s 655us/step - loss: 5.0689 - mean_absolute_error: 1.6103\n",
      "Epoch 48/100\n",
      "404/404 [==============================] - 0s 621us/step - loss: 5.1190 - mean_absolute_error: 1.5871\n",
      "Epoch 49/100\n",
      "404/404 [==============================] - ETA: 0s - loss: 4.3438 - mean_absolute_error: 1.539 - 0s 624us/step - loss: 5.1188 - mean_absolute_error: 1.5828\n",
      "Epoch 50/100\n",
      "404/404 [==============================] - 0s 628us/step - loss: 5.1439 - mean_absolute_error: 1.6317\n",
      "Epoch 51/100\n",
      "404/404 [==============================] - 0s 610us/step - loss: 4.8824 - mean_absolute_error: 1.6111\n",
      "Epoch 52/100\n",
      "404/404 [==============================] - 0s 614us/step - loss: 5.3271 - mean_absolute_error: 1.6370\n",
      "Epoch 53/100\n",
      "404/404 [==============================] - 0s 604us/step - loss: 5.1833 - mean_absolute_error: 1.5854\n",
      "Epoch 54/100\n",
      "404/404 [==============================] - 0s 587us/step - loss: 4.8427 - mean_absolute_error: 1.5450\n",
      "Epoch 55/100\n",
      "404/404 [==============================] - 0s 600us/step - loss: 4.9513 - mean_absolute_error: 1.5732\n",
      "Epoch 56/100\n",
      "404/404 [==============================] - 0s 628us/step - loss: 5.0036 - mean_absolute_error: 1.5619\n",
      "Epoch 57/100\n",
      "404/404 [==============================] - 0s 612us/step - loss: 4.8095 - mean_absolute_error: 1.5690\n",
      "Epoch 58/100\n",
      "404/404 [==============================] - 0s 633us/step - loss: 5.1277 - mean_absolute_error: 1.6054\n",
      "Epoch 59/100\n",
      "404/404 [==============================] - 0s 671us/step - loss: 4.9396 - mean_absolute_error: 1.5458\n",
      "Epoch 60/100\n",
      "404/404 [==============================] - 0s 639us/step - loss: 4.7613 - mean_absolute_error: 1.5585\n",
      "Epoch 61/100\n",
      "404/404 [==============================] - 0s 648us/step - loss: 4.6506 - mean_absolute_error: 1.5245\n",
      "Epoch 62/100\n",
      "404/404 [==============================] - 0s 651us/step - loss: 4.7755 - mean_absolute_error: 1.5673\n",
      "Epoch 63/100\n",
      "404/404 [==============================] - 0s 660us/step - loss: 4.5792 - mean_absolute_error: 1.4909\n",
      "Epoch 64/100\n",
      "404/404 [==============================] - 0s 716us/step - loss: 4.5835 - mean_absolute_error: 1.5208\n",
      "Epoch 65/100\n",
      "404/404 [==============================] - 0s 702us/step - loss: 4.6987 - mean_absolute_error: 1.5541\n",
      "Epoch 66/100\n",
      "404/404 [==============================] - 0s 682us/step - loss: 4.6466 - mean_absolute_error: 1.5403\n",
      "Epoch 67/100\n",
      "404/404 [==============================] - 0s 678us/step - loss: 4.6146 - mean_absolute_error: 1.5222\n",
      "Epoch 68/100\n",
      "404/404 [==============================] - 0s 664us/step - loss: 4.5344 - mean_absolute_error: 1.4952\n",
      "Epoch 69/100\n",
      "404/404 [==============================] - 0s 710us/step - loss: 4.7621 - mean_absolute_error: 1.5496\n",
      "Epoch 70/100\n",
      "404/404 [==============================] - 0s 706us/step - loss: 4.6800 - mean_absolute_error: 1.5103\n",
      "Epoch 71/100\n"
     ]
    },
    {
     "name": "stdout",
     "output_type": "stream",
     "text": [
      "404/404 [==============================] - 0s 671us/step - loss: 4.4186 - mean_absolute_error: 1.4950\n",
      "Epoch 72/100\n",
      "404/404 [==============================] - 0s 590us/step - loss: 4.3289 - mean_absolute_error: 1.4868\n",
      "Epoch 73/100\n",
      "404/404 [==============================] - 0s 645us/step - loss: 4.3929 - mean_absolute_error: 1.4671\n",
      "Epoch 74/100\n",
      "404/404 [==============================] - 0s 639us/step - loss: 4.3723 - mean_absolute_error: 1.5382\n",
      "Epoch 75/100\n",
      "404/404 [==============================] - 0s 643us/step - loss: 4.4107 - mean_absolute_error: 1.4948\n",
      "Epoch 76/100\n",
      "404/404 [==============================] - 0s 616us/step - loss: 4.3820 - mean_absolute_error: 1.4696\n",
      "Epoch 77/100\n",
      "404/404 [==============================] - 0s 674us/step - loss: 4.4628 - mean_absolute_error: 1.4911\n",
      "Epoch 78/100\n",
      "404/404 [==============================] - 0s 685us/step - loss: 4.3225 - mean_absolute_error: 1.4732\n",
      "Epoch 79/100\n",
      "404/404 [==============================] - 0s 677us/step - loss: 4.0786 - mean_absolute_error: 1.4804\n",
      "Epoch 80/100\n",
      "404/404 [==============================] - 0s 703us/step - loss: 4.2222 - mean_absolute_error: 1.4409\n",
      "Epoch 81/100\n",
      "404/404 [==============================] - 0s 707us/step - loss: 4.2680 - mean_absolute_error: 1.4697\n",
      "Epoch 82/100\n",
      "404/404 [==============================] - 0s 664us/step - loss: 4.1037 - mean_absolute_error: 1.4586\n",
      "Epoch 83/100\n",
      "404/404 [==============================] - 0s 655us/step - loss: 4.3275 - mean_absolute_error: 1.4796\n",
      "Epoch 84/100\n",
      "404/404 [==============================] - 0s 666us/step - loss: 4.0376 - mean_absolute_error: 1.4069\n",
      "Epoch 85/100\n",
      "404/404 [==============================] - 0s 697us/step - loss: 4.2663 - mean_absolute_error: 1.4734\n",
      "Epoch 86/100\n",
      "404/404 [==============================] - 0s 681us/step - loss: 4.0192 - mean_absolute_error: 1.4186\n",
      "Epoch 87/100\n",
      "404/404 [==============================] - 0s 681us/step - loss: 4.0492 - mean_absolute_error: 1.4566\n",
      "Epoch 88/100\n",
      "404/404 [==============================] - 0s 670us/step - loss: 3.8733 - mean_absolute_error: 1.4003\n",
      "Epoch 89/100\n",
      "404/404 [==============================] - 0s 701us/step - loss: 4.1226 - mean_absolute_error: 1.4586\n",
      "Epoch 90/100\n",
      "404/404 [==============================] - 0s 665us/step - loss: 4.0769 - mean_absolute_error: 1.4416\n",
      "Epoch 91/100\n",
      "404/404 [==============================] - 0s 660us/step - loss: 3.9010 - mean_absolute_error: 1.4000\n",
      "Epoch 92/100\n",
      "404/404 [==============================] - 0s 666us/step - loss: 3.8740 - mean_absolute_error: 1.4092\n",
      "Epoch 93/100\n",
      "404/404 [==============================] - 0s 685us/step - loss: 3.9469 - mean_absolute_error: 1.4297\n",
      "Epoch 94/100\n",
      "404/404 [==============================] - 0s 779us/step - loss: 3.9295 - mean_absolute_error: 1.3923\n",
      "Epoch 95/100\n",
      "404/404 [==============================] - 0s 665us/step - loss: 3.9365 - mean_absolute_error: 1.4208\n",
      "Epoch 96/100\n",
      "404/404 [==============================] - 0s 661us/step - loss: 3.9023 - mean_absolute_error: 1.4036\n",
      "Epoch 97/100\n",
      "404/404 [==============================] - 0s 685us/step - loss: 3.8830 - mean_absolute_error: 1.3862\n",
      "Epoch 98/100\n",
      "404/404 [==============================] - 0s 685us/step - loss: 3.9284 - mean_absolute_error: 1.3940\n",
      "Epoch 99/100\n",
      "404/404 [==============================] - 0s 671us/step - loss: 3.9617 - mean_absolute_error: 1.4097\n",
      "Epoch 100/100\n",
      "404/404 [==============================] - 0s 675us/step - loss: 3.8759 - mean_absolute_error: 1.3823\n"
     ]
    },
    {
     "data": {
      "text/plain": [
       "<keras.callbacks.History at 0x1e195df7da0>"
      ]
     },
     "execution_count": 12,
     "metadata": {},
     "output_type": "execute_result"
    }
   ],
   "source": [
    "model.fit(X_train, y_train, batch_size=1, epochs=100, verbose=1)"
   ]
  },
  {
   "cell_type": "markdown",
   "metadata": {},
   "source": [
    "## Оцениваем качество обучения"
   ]
  },
  {
   "cell_type": "code",
   "execution_count": 13,
   "metadata": {},
   "outputs": [],
   "source": [
    "# Запускаем сеть на входных данных\n",
    "mse, mae = model.evaluate(X_test, y_test, verbose=0)"
   ]
  },
  {
   "cell_type": "code",
   "execution_count": 14,
   "metadata": {},
   "outputs": [
    {
     "name": "stdout",
     "output_type": "stream",
     "text": [
      "2.404047545264749\n"
     ]
    }
   ],
   "source": [
    "print(mae)"
   ]
  },
  {
   "cell_type": "markdown",
   "metadata": {},
   "source": [
    "## Используем сеть для предсказания стоимости недвижимости"
   ]
  },
  {
   "cell_type": "code",
   "execution_count": 15,
   "metadata": {},
   "outputs": [],
   "source": [
    "pred = model.predict(X_test)"
   ]
  },
  {
   "cell_type": "code",
   "execution_count": 16,
   "metadata": {},
   "outputs": [
    {
     "name": "stdout",
     "output_type": "stream",
     "text": [
      "18.063951 18.8\n"
     ]
    }
   ],
   "source": [
    "print(pred[1][0], y_test[1])"
   ]
  },
  {
   "cell_type": "code",
   "execution_count": 17,
   "metadata": {},
   "outputs": [
    {
     "name": "stdout",
     "output_type": "stream",
     "text": [
      "34.387596 35.4\n"
     ]
    }
   ],
   "source": [
    "print(pred[50][0], y_test[50])"
   ]
  },
  {
   "cell_type": "code",
   "execution_count": 18,
   "metadata": {},
   "outputs": [
    {
     "name": "stdout",
     "output_type": "stream",
     "text": [
      "29.82594 26.7\n"
     ]
    }
   ],
   "source": [
    "print(pred[100][0], y_test[100])"
   ]
  },
  {
   "cell_type": "code",
   "execution_count": null,
   "metadata": {},
   "outputs": [],
   "source": []
  }
 ],
 "metadata": {
  "kernelspec": {
   "display_name": "Python 3",
   "language": "python",
   "name": "python3"
  },
  "language_info": {
   "codemirror_mode": {
    "name": "ipython",
    "version": 3
   },
   "file_extension": ".py",
   "mimetype": "text/x-python",
   "name": "python",
   "nbconvert_exporter": "python",
   "pygments_lexer": "ipython3",
   "version": "3.6.7"
  }
 },
 "nbformat": 4,
 "nbformat_minor": 2
}
